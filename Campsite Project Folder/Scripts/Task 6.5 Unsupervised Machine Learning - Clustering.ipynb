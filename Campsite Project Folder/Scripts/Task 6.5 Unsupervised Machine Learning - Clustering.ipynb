{
 "cells": [
  {
   "cell_type": "markdown",
   "id": "6f93dc9c",
   "metadata": {},
   "source": [
    "## 6.5 Machine Learning Part 2\n",
    "#### This script contains the following:\n",
    "#### 1. Importing libraries and data and renaming columns\n",
    "#### 2. The elbow technique\n",
    "#### 3. k-means clustering"
   ]
  },
  {
   "cell_type": "markdown",
   "id": "220f768c",
   "metadata": {},
   "source": [
    "### 1. Importing libraries and data"
   ]
  },
  {
   "cell_type": "code",
   "execution_count": 1,
   "id": "71158ec2",
   "metadata": {},
   "outputs": [],
   "source": [
    "import pandas as pd\n",
    "import numpy as np\n",
    "import seaborn as sns\n",
    "import matplotlib\n",
    "import matplotlib.pyplot as plt\n",
    "import os\n",
    "import sklearn\n",
    "from sklearn.cluster import KMeans \n",
    "import pylab as pl"
   ]
  },
  {
   "cell_type": "code",
   "execution_count": 2,
   "id": "feffae40",
   "metadata": {},
   "outputs": [],
   "source": [
    "%matplotlib inline"
   ]
  },
  {
   "cell_type": "code",
   "execution_count": 3,
   "id": "08f25a49",
   "metadata": {},
   "outputs": [],
   "source": [
    "df=pd.read_csv (r\"C:\\Users\\kelly\\OneDrive\\Desktop\\Campsite Prepared Data\\up_to_date_data.csv\")"
   ]
  },
  {
   "cell_type": "code",
   "execution_count": 4,
   "id": "a98c03ef",
   "metadata": {},
   "outputs": [
    {
     "data": {
      "text/plain": [
       "(150, 15)"
      ]
     },
     "execution_count": 4,
     "metadata": {},
     "output_type": "execute_result"
    }
   ],
   "source": [
    "df.shape"
   ]
  },
  {
   "cell_type": "code",
   "execution_count": 5,
   "id": "74039ad4",
   "metadata": {},
   "outputs": [
    {
     "data": {
      "text/html": [
       "<div>\n",
       "<style scoped>\n",
       "    .dataframe tbody tr th:only-of-type {\n",
       "        vertical-align: middle;\n",
       "    }\n",
       "\n",
       "    .dataframe tbody tr th {\n",
       "        vertical-align: top;\n",
       "    }\n",
       "\n",
       "    .dataframe thead th {\n",
       "        text-align: right;\n",
       "    }\n",
       "</style>\n",
       "<table border=\"1\" class=\"dataframe\">\n",
       "  <thead>\n",
       "    <tr style=\"text-align: right;\">\n",
       "      <th></th>\n",
       "      <th>Unnamed: 0.1</th>\n",
       "      <th>Unnamed: 0</th>\n",
       "      <th>longitude</th>\n",
       "      <th>latitude</th>\n",
       "      <th>name</th>\n",
       "      <th>park_type</th>\n",
       "      <th>dates_open</th>\n",
       "      <th>comments</th>\n",
       "      <th>num_sites</th>\n",
       "      <th>elevation</th>\n",
       "      <th>amenities</th>\n",
       "      <th>state</th>\n",
       "      <th>nearest_town_distance</th>\n",
       "      <th>nearest_town_bearing</th>\n",
       "      <th>city</th>\n",
       "    </tr>\n",
       "  </thead>\n",
       "  <tbody>\n",
       "    <tr>\n",
       "      <th>0</th>\n",
       "      <td>51</td>\n",
       "      <td>1091</td>\n",
       "      <td>-88.324</td>\n",
       "      <td>46.325</td>\n",
       "      <td>Deer Lake - State Forest</td>\n",
       "      <td>SF</td>\n",
       "      <td>all year</td>\n",
       "      <td>open all year but snow may block</td>\n",
       "      <td>12</td>\n",
       "      <td>1569.0</td>\n",
       "      <td>NH NR</td>\n",
       "      <td>MI</td>\n",
       "      <td>15.7</td>\n",
       "      <td>N</td>\n",
       "      <td>Crystal Falls</td>\n",
       "    </tr>\n",
       "    <tr>\n",
       "      <th>1</th>\n",
       "      <td>56</td>\n",
       "      <td>1196</td>\n",
       "      <td>-88.402</td>\n",
       "      <td>46.531</td>\n",
       "      <td>King Lake - Copper County State Forest</td>\n",
       "      <td>SF</td>\n",
       "      <td>all year</td>\n",
       "      <td>open all year but snow may block</td>\n",
       "      <td>6</td>\n",
       "      <td>1662.0</td>\n",
       "      <td>NH NR</td>\n",
       "      <td>MI</td>\n",
       "      <td>6.5</td>\n",
       "      <td>E</td>\n",
       "      <td>Covington</td>\n",
       "    </tr>\n",
       "    <tr>\n",
       "      <th>2</th>\n",
       "      <td>163</td>\n",
       "      <td>2119</td>\n",
       "      <td>-103.363</td>\n",
       "      <td>48.279</td>\n",
       "      <td>Epping RV Park</td>\n",
       "      <td>CP</td>\n",
       "      <td>early may-mid oct</td>\n",
       "      <td>may be full - check</td>\n",
       "      <td>12</td>\n",
       "      <td>2203.0</td>\n",
       "      <td>WES DP</td>\n",
       "      <td>ND</td>\n",
       "      <td>0.3</td>\n",
       "      <td>W</td>\n",
       "      <td>Epping</td>\n",
       "    </tr>\n",
       "    <tr>\n",
       "      <th>3</th>\n",
       "      <td>261</td>\n",
       "      <td>2261</td>\n",
       "      <td>-101.327</td>\n",
       "      <td>47.615</td>\n",
       "      <td>Sportsmens Centennial Park</td>\n",
       "      <td>CP</td>\n",
       "      <td>early may-late sep</td>\n",
       "      <td>swim</td>\n",
       "      <td>121</td>\n",
       "      <td>1869.0</td>\n",
       "      <td>E FT DW SH</td>\n",
       "      <td>ND</td>\n",
       "      <td>4.8</td>\n",
       "      <td>SE</td>\n",
       "      <td>Garrison</td>\n",
       "    </tr>\n",
       "    <tr>\n",
       "      <th>4</th>\n",
       "      <td>335</td>\n",
       "      <td>2374</td>\n",
       "      <td>-98.077</td>\n",
       "      <td>41.987</td>\n",
       "      <td>Elgin City Park</td>\n",
       "      <td>CP</td>\n",
       "      <td>early may-mid oct</td>\n",
       "      <td>swim</td>\n",
       "      <td>8</td>\n",
       "      <td>1926.0</td>\n",
       "      <td>WES DP FT DW SH L$</td>\n",
       "      <td>NE</td>\n",
       "      <td>0.4</td>\n",
       "      <td>NE</td>\n",
       "      <td>Elgin</td>\n",
       "    </tr>\n",
       "  </tbody>\n",
       "</table>\n",
       "</div>"
      ],
      "text/plain": [
       "   Unnamed: 0.1  Unnamed: 0  longitude  latitude  \\\n",
       "0            51        1091    -88.324    46.325   \n",
       "1            56        1196    -88.402    46.531   \n",
       "2           163        2119   -103.363    48.279   \n",
       "3           261        2261   -101.327    47.615   \n",
       "4           335        2374    -98.077    41.987   \n",
       "\n",
       "                                     name park_type          dates_open  \\\n",
       "0                Deer Lake - State Forest        SF            all year   \n",
       "1  King Lake - Copper County State Forest        SF            all year   \n",
       "2                          Epping RV Park        CP   early may-mid oct   \n",
       "3              Sportsmens Centennial Park        CP  early may-late sep   \n",
       "4                         Elgin City Park        CP   early may-mid oct   \n",
       "\n",
       "                           comments  num_sites  elevation           amenities  \\\n",
       "0  open all year but snow may block         12     1569.0               NH NR   \n",
       "1  open all year but snow may block          6     1662.0               NH NR   \n",
       "2               may be full - check         12     2203.0              WES DP   \n",
       "3                              swim        121     1869.0          E FT DW SH   \n",
       "4                              swim          8     1926.0  WES DP FT DW SH L$   \n",
       "\n",
       "  state  nearest_town_distance nearest_town_bearing           city  \n",
       "0    MI                   15.7                    N  Crystal Falls  \n",
       "1    MI                    6.5                    E      Covington  \n",
       "2    ND                    0.3                    W         Epping  \n",
       "3    ND                    4.8                   SE       Garrison  \n",
       "4    NE                    0.4                   NE          Elgin  "
      ]
     },
     "execution_count": 5,
     "metadata": {},
     "output_type": "execute_result"
    }
   ],
   "source": [
    "df.head()"
   ]
  },
  {
   "cell_type": "code",
   "execution_count": 6,
   "id": "855e79ce",
   "metadata": {},
   "outputs": [],
   "source": [
    "#Drop columns 'Unnamed:0.1', 'Unnamed:0, 'name', 'park_type', 'dates_open', 'comments', 'amenities', 'state', 'nearest_town_bearing', 'city', 'longitude', 'latitude'\n",
    "\n",
    "df_2 = df.drop(columns = ['Unnamed: 0.1', 'Unnamed: 0', 'name', 'park_type', 'dates_open', 'comments', 'amenities', 'state', 'nearest_town_bearing', 'city', 'longitude', 'latitude'])"
   ]
  },
  {
   "cell_type": "code",
   "execution_count": 7,
   "id": "3fdb841b",
   "metadata": {},
   "outputs": [
    {
     "data": {
      "text/plain": [
       "Index(['num_sites', 'elevation', 'nearest_town_distance'], dtype='object')"
      ]
     },
     "execution_count": 7,
     "metadata": {},
     "output_type": "execute_result"
    }
   ],
   "source": [
    "df_2.columns"
   ]
  },
  {
   "cell_type": "markdown",
   "id": "f3efb69a",
   "metadata": {},
   "source": [
    "### 2. The elbow technique"
   ]
  },
  {
   "cell_type": "code",
   "execution_count": 8,
   "id": "2486c0a1",
   "metadata": {},
   "outputs": [],
   "source": [
    "num_cl = range(1, 10) \n",
    "kmeans = [KMeans(n_clusters=i) for i in num_cl] "
   ]
  },
  {
   "cell_type": "code",
   "execution_count": 9,
   "id": "5dc74fc7",
   "metadata": {},
   "outputs": [
    {
     "name": "stderr",
     "output_type": "stream",
     "text": [
      "C:\\Users\\kelly\\anaconda3\\lib\\site-packages\\sklearn\\cluster\\_kmeans.py:1036: UserWarning: KMeans is known to have a memory leak on Windows with MKL, when there are less chunks than available threads. You can avoid it by setting the environment variable OMP_NUM_THREADS=1.\n",
      "  warnings.warn(\n"
     ]
    },
    {
     "data": {
      "text/plain": [
       "[-935800273.3722665,\n",
       " -269770114.2357828,\n",
       " -103957272.11055267,\n",
       " -52273840.49908222,\n",
       " -39291561.58999663,\n",
       " -26723817.079837095,\n",
       " -20075669.25130159,\n",
       " -15351339.589321123,\n",
       " -12172387.33714022]"
      ]
     },
     "execution_count": 9,
     "metadata": {},
     "output_type": "execute_result"
    }
   ],
   "source": [
    "score = [kmeans[i].fit(df_2).score(df_2) for i in range(len(kmeans))] \n",
    "\n",
    "score"
   ]
  },
  {
   "cell_type": "code",
   "execution_count": 10,
   "id": "97fbeba3",
   "metadata": {},
   "outputs": [
    {
     "data": {
      "image/png": "[encoded data removed]",
      "text/plain": [
       "<Figure size 432x288 with 1 Axes>"
      ]
     },
     "metadata": {
      "needs_background": "light"
     },
     "output_type": "display_data"
    }
   ],
   "source": [
    "# Plot the elbow curve using PyLab.\n",
    "\n",
    "pl.plot(num_cl,score)\n",
    "pl.xlabel('Number of Clusters')\n",
    "pl.ylabel('Score')\n",
    "pl.title('Elbow Curve')\n",
    "pl.show()"
   ]
  },
  {
   "cell_type": "markdown",
   "id": "43b3e65a",
   "metadata": {},
   "source": [
    "In this example, there's a large jump from two to three on the x-axis and a smaller jump from 3 to 4, but after that, the curve straightens out. This means that the optimal count for your clusters is four."
   ]
  },
  {
   "cell_type": "code",
   "execution_count": 11,
   "id": "b8394c7c",
   "metadata": {},
   "outputs": [],
   "source": [
    "# Create the k-means object.\n",
    "\n",
    "kmeans = KMeans(n_clusters = 4) "
   ]
  },
  {
   "cell_type": "code",
   "execution_count": 12,
   "id": "f72f263b",
   "metadata": {},
   "outputs": [
    {
     "data": {
      "text/plain": [
       "KMeans(n_clusters=4)"
      ]
     },
     "execution_count": 12,
     "metadata": {},
     "output_type": "execute_result"
    }
   ],
   "source": [
    "# Fit the k-means object to the data.\n",
    "\n",
    "kmeans.fit(df_2)"
   ]
  },
  {
   "cell_type": "code",
   "execution_count": 13,
   "id": "43d2e072",
   "metadata": {},
   "outputs": [],
   "source": [
    "df_2['clusters'] = kmeans.fit_predict(df_2)"
   ]
  },
  {
   "cell_type": "code",
   "execution_count": 14,
   "id": "eb42973d",
   "metadata": {},
   "outputs": [
    {
     "data": {
      "text/html": [
       "<div>\n",
       "<style scoped>\n",
       "    .dataframe tbody tr th:only-of-type {\n",
       "        vertical-align: middle;\n",
       "    }\n",
       "\n",
       "    .dataframe tbody tr th {\n",
       "        vertical-align: top;\n",
       "    }\n",
       "\n",
       "    .dataframe thead th {\n",
       "        text-align: right;\n",
       "    }\n",
       "</style>\n",
       "<table border=\"1\" class=\"dataframe\">\n",
       "  <thead>\n",
       "    <tr style=\"text-align: right;\">\n",
       "      <th></th>\n",
       "      <th>num_sites</th>\n",
       "      <th>elevation</th>\n",
       "      <th>nearest_town_distance</th>\n",
       "      <th>clusters</th>\n",
       "    </tr>\n",
       "  </thead>\n",
       "  <tbody>\n",
       "    <tr>\n",
       "      <th>0</th>\n",
       "      <td>12</td>\n",
       "      <td>1569.0</td>\n",
       "      <td>15.7</td>\n",
       "      <td>2</td>\n",
       "    </tr>\n",
       "    <tr>\n",
       "      <th>1</th>\n",
       "      <td>6</td>\n",
       "      <td>1662.0</td>\n",
       "      <td>6.5</td>\n",
       "      <td>2</td>\n",
       "    </tr>\n",
       "    <tr>\n",
       "      <th>2</th>\n",
       "      <td>12</td>\n",
       "      <td>2203.0</td>\n",
       "      <td>0.3</td>\n",
       "      <td>2</td>\n",
       "    </tr>\n",
       "    <tr>\n",
       "      <th>3</th>\n",
       "      <td>121</td>\n",
       "      <td>1869.0</td>\n",
       "      <td>4.8</td>\n",
       "      <td>2</td>\n",
       "    </tr>\n",
       "    <tr>\n",
       "      <th>4</th>\n",
       "      <td>8</td>\n",
       "      <td>1926.0</td>\n",
       "      <td>0.4</td>\n",
       "      <td>2</td>\n",
       "    </tr>\n",
       "  </tbody>\n",
       "</table>\n",
       "</div>"
      ],
      "text/plain": [
       "   num_sites  elevation  nearest_town_distance  clusters\n",
       "0         12     1569.0                   15.7         2\n",
       "1          6     1662.0                    6.5         2\n",
       "2         12     2203.0                    0.3         2\n",
       "3        121     1869.0                    4.8         2\n",
       "4          8     1926.0                    0.4         2"
      ]
     },
     "execution_count": 14,
     "metadata": {},
     "output_type": "execute_result"
    }
   ],
   "source": [
    "df_2.head()"
   ]
  },
  {
   "cell_type": "code",
   "execution_count": 15,
   "id": "2af63797",
   "metadata": {},
   "outputs": [
    {
     "data": {
      "text/html": [
       "<div>\n",
       "<style scoped>\n",
       "    .dataframe tbody tr th:only-of-type {\n",
       "        vertical-align: middle;\n",
       "    }\n",
       "\n",
       "    .dataframe tbody tr th {\n",
       "        vertical-align: top;\n",
       "    }\n",
       "\n",
       "    .dataframe thead th {\n",
       "        text-align: right;\n",
       "    }\n",
       "</style>\n",
       "<table border=\"1\" class=\"dataframe\">\n",
       "  <thead>\n",
       "    <tr style=\"text-align: right;\">\n",
       "      <th></th>\n",
       "      <th>num_sites</th>\n",
       "      <th>elevation</th>\n",
       "      <th>nearest_town_distance</th>\n",
       "      <th>clusters</th>\n",
       "    </tr>\n",
       "  </thead>\n",
       "  <tbody>\n",
       "    <tr>\n",
       "      <th>0</th>\n",
       "      <td>12</td>\n",
       "      <td>1569.0</td>\n",
       "      <td>15.7</td>\n",
       "      <td>2</td>\n",
       "    </tr>\n",
       "    <tr>\n",
       "      <th>1</th>\n",
       "      <td>6</td>\n",
       "      <td>1662.0</td>\n",
       "      <td>6.5</td>\n",
       "      <td>2</td>\n",
       "    </tr>\n",
       "    <tr>\n",
       "      <th>2</th>\n",
       "      <td>12</td>\n",
       "      <td>2203.0</td>\n",
       "      <td>0.3</td>\n",
       "      <td>2</td>\n",
       "    </tr>\n",
       "    <tr>\n",
       "      <th>3</th>\n",
       "      <td>121</td>\n",
       "      <td>1869.0</td>\n",
       "      <td>4.8</td>\n",
       "      <td>2</td>\n",
       "    </tr>\n",
       "    <tr>\n",
       "      <th>4</th>\n",
       "      <td>8</td>\n",
       "      <td>1926.0</td>\n",
       "      <td>0.4</td>\n",
       "      <td>2</td>\n",
       "    </tr>\n",
       "    <tr>\n",
       "      <th>...</th>\n",
       "      <td>...</td>\n",
       "      <td>...</td>\n",
       "      <td>...</td>\n",
       "      <td>...</td>\n",
       "    </tr>\n",
       "    <tr>\n",
       "      <th>145</th>\n",
       "      <td>238</td>\n",
       "      <td>1764.0</td>\n",
       "      <td>10.0</td>\n",
       "      <td>2</td>\n",
       "    </tr>\n",
       "    <tr>\n",
       "      <th>146</th>\n",
       "      <td>68</td>\n",
       "      <td>2505.0</td>\n",
       "      <td>7.3</td>\n",
       "      <td>2</td>\n",
       "    </tr>\n",
       "    <tr>\n",
       "      <th>147</th>\n",
       "      <td>34</td>\n",
       "      <td>3314.0</td>\n",
       "      <td>0.2</td>\n",
       "      <td>2</td>\n",
       "    </tr>\n",
       "    <tr>\n",
       "      <th>148</th>\n",
       "      <td>15</td>\n",
       "      <td>4500.0</td>\n",
       "      <td>10.1</td>\n",
       "      <td>0</td>\n",
       "    </tr>\n",
       "    <tr>\n",
       "      <th>149</th>\n",
       "      <td>20</td>\n",
       "      <td>4527.0</td>\n",
       "      <td>28.5</td>\n",
       "      <td>0</td>\n",
       "    </tr>\n",
       "  </tbody>\n",
       "</table>\n",
       "<p>150 rows × 4 columns</p>\n",
       "</div>"
      ],
      "text/plain": [
       "     num_sites  elevation  nearest_town_distance  clusters\n",
       "0           12     1569.0                   15.7         2\n",
       "1            6     1662.0                    6.5         2\n",
       "2           12     2203.0                    0.3         2\n",
       "3          121     1869.0                    4.8         2\n",
       "4            8     1926.0                    0.4         2\n",
       "..         ...        ...                    ...       ...\n",
       "145        238     1764.0                   10.0         2\n",
       "146         68     2505.0                    7.3         2\n",
       "147         34     3314.0                    0.2         2\n",
       "148         15     4500.0                   10.1         0\n",
       "149         20     4527.0                   28.5         0\n",
       "\n",
       "[150 rows x 4 columns]"
      ]
     },
     "execution_count": 15,
     "metadata": {},
     "output_type": "execute_result"
    }
   ],
   "source": [
    "df_2"
   ]
  },
  {
   "cell_type": "code",
   "execution_count": 16,
   "id": "6e980fb2",
   "metadata": {},
   "outputs": [],
   "source": [
    "df_2.to_csv(r'C:\\Users\\kelly\\OneDrive\\Desktop\\Campsite Prepared Data/data_with_clusters.csv')"
   ]
  },
  {
   "cell_type": "code",
   "execution_count": 20,
   "id": "5fec912b",
   "metadata": {},
   "outputs": [
    {
     "data": {
      "text/plain": [
       "2    47\n",
       "0    42\n",
       "3    37\n",
       "1    24\n",
       "Name: clusters, dtype: int64"
      ]
     },
     "execution_count": 20,
     "metadata": {},
     "output_type": "execute_result"
    }
   ],
   "source": [
    "df_2['clusters'].value_counts()"
   ]
  },
  {
   "cell_type": "code",
   "execution_count": 15,
   "id": "0563404d",
   "metadata": {},
   "outputs": [],
   "source": [
    "df_2.to_csv(r'C:\\Users\\kelly\\OneDrive\\Desktop\\Campsite Prepared Data/data_with_clusters')"
   ]
  },
  {
   "cell_type": "code",
   "execution_count": 22,
   "id": "39333d38",
   "metadata": {},
   "outputs": [
    {
     "data": {
      "image/png": "[encoded data removed]",
      "text/plain": [
       "<Figure size 864x576 with 1 Axes>"
      ]
     },
     "metadata": {
      "needs_background": "light"
     },
     "output_type": "display_data"
    }
   ],
   "source": [
    "# Plot the clusters for the \"Number of sites\" and \"Nearest town distance\" variables.\n",
    "\n",
    "plt.figure(figsize=(12,8))\n",
    "ax = sns.scatterplot(x=df_2['num_sites'], y=df_2['nearest_town_distance'], hue=kmeans.labels_, s=100) \n",
    "\n",
    "ax.grid(False) \n",
    "plt.xlabel('Number of sites') \n",
    "plt.ylabel('Nearest town distance') \n",
    "plt.show()"
   ]
  },
  {
   "cell_type": "markdown",
   "id": "0a32d051",
   "metadata": {},
   "source": [
    "The cluster numbers were pretty much evenly distributed and the same number in each cluster, however, they didn't show up as a true cluster on the scatterplot.  I'm not sure why that happened.  The number '2' cluster has the most populated cluster.  It shows the number of sites in relation to being closest to town.  They seem to be evenly distributed from towns that are 0-15 miles from a site.  The number cluster '0' has the next highest amount of sites closest to town.  They have a few that are the most number of sites available and are closer to a town.  The '3' cluster has has a variety of of information.  There seem to be quite a few that have a smaller amount of sites and are closest to town.  There are also some that have a higher number of sites and are farther away from town.  This cluster is really spread out.  The '1' cluster has the smallest amount in the cluster.  It has the most sites and closest to town indicator.  Most of this cluster seems to be concentrated with smaller number of sites and closest to town.  I think it is safe to say that most campsites with fewer sites are located closer to a town."
   ]
  },
  {
   "cell_type": "code",
   "execution_count": 23,
   "id": "4b1b6e22",
   "metadata": {},
   "outputs": [
    {
     "data": {
      "image/png": "[encoded data removed]",
      "text/plain": [
       "<Figure size 864x576 with 1 Axes>"
      ]
     },
     "metadata": {
      "needs_background": "light"
     },
     "output_type": "display_data"
    }
   ],
   "source": [
    "# Plot the clusters for the \"Elevation\" and \"Nearest town distance\" variables.\n",
    "\n",
    "plt.figure(figsize=(12,8))\n",
    "ax = sns.scatterplot(x=df_2['elevation'], y=df_2['nearest_town_distance'], hue=kmeans.labels_, s=100)\n",
    "\n",
    "ax.grid(False) \n",
    "plt.xlabel('Elevation') \n",
    "plt.ylabel('Nearest town distance') \n",
    "plt.show()"
   ]
  },
  {
   "cell_type": "markdown",
   "id": "f54442b6",
   "metadata": {},
   "source": [
    "This scatterplot shows the elevation of a campsite in comparison to how close it is to the nearest town.  This scatterplot looks more realistic and has grouped the dots more like true clusters.  Each cluster seems to be distributed about the same.  It shows that the lower the elevation, the closer a site is located to a town.  The higher the elevation, the farther it is from town.  It might make sense that a higher elevated site wouldn't be close to a town.  Many towns wouldn't be built on a higher elevation piece of land.  I am still interested to see which states have the higher elevation sites and which states have the lower elevation sites.  I would think the upper half of the US would have the higher elevated sites.  I would still like to find the answer to that question.  I would also like to know which states have the most/least campsites available."
   ]
  },
  {
   "cell_type": "code",
   "execution_count": 25,
   "id": "c1554f6f",
   "metadata": {},
   "outputs": [],
   "source": [
    "df_2.loc[df_2['clusters'] == 2, 'cluster'] = 'dark purple'\n",
    "df_2.loc[df_2['clusters'] == 1, 'cluster'] = 'purple'\n",
    "df_2.loc[df_2['clusters'] == 0, 'cluster'] = 'pink'"
   ]
  },
  {
   "cell_type": "code",
   "execution_count": 28,
   "id": "1f8ee7e3",
   "metadata": {},
   "outputs": [
    {
     "data": {
      "text/html": [
       "<div>\n",
       "<style scoped>\n",
       "    .dataframe tbody tr th:only-of-type {\n",
       "        vertical-align: middle;\n",
       "    }\n",
       "\n",
       "    .dataframe tbody tr th {\n",
       "        vertical-align: top;\n",
       "    }\n",
       "\n",
       "    .dataframe thead tr th {\n",
       "        text-align: left;\n",
       "    }\n",
       "\n",
       "    .dataframe thead tr:last-of-type th {\n",
       "        text-align: right;\n",
       "    }\n",
       "</style>\n",
       "<table border=\"1\" class=\"dataframe\">\n",
       "  <thead>\n",
       "    <tr>\n",
       "      <th></th>\n",
       "      <th colspan=\"2\" halign=\"left\">num_sites</th>\n",
       "      <th colspan=\"2\" halign=\"left\">nearest_town_distance</th>\n",
       "      <th colspan=\"2\" halign=\"left\">elevation</th>\n",
       "    </tr>\n",
       "    <tr>\n",
       "      <th></th>\n",
       "      <th>mean</th>\n",
       "      <th>median</th>\n",
       "      <th>mean</th>\n",
       "      <th>median</th>\n",
       "      <th>mean</th>\n",
       "      <th>median</th>\n",
       "    </tr>\n",
       "    <tr>\n",
       "      <th>cluster</th>\n",
       "      <th></th>\n",
       "      <th></th>\n",
       "      <th></th>\n",
       "      <th></th>\n",
       "      <th></th>\n",
       "      <th></th>\n",
       "    </tr>\n",
       "  </thead>\n",
       "  <tbody>\n",
       "    <tr>\n",
       "      <th>dark purple</th>\n",
       "      <td>37.042553</td>\n",
       "      <td>15.0</td>\n",
       "      <td>8.434043</td>\n",
       "      <td>5.2</td>\n",
       "      <td>2100.000000</td>\n",
       "      <td>1869.0</td>\n",
       "    </tr>\n",
       "    <tr>\n",
       "      <th>pink</th>\n",
       "      <td>64.738095</td>\n",
       "      <td>41.0</td>\n",
       "      <td>11.947619</td>\n",
       "      <td>10.9</td>\n",
       "      <td>4731.571429</td>\n",
       "      <td>4793.5</td>\n",
       "    </tr>\n",
       "    <tr>\n",
       "      <th>purple</th>\n",
       "      <td>51.083333</td>\n",
       "      <td>20.0</td>\n",
       "      <td>10.945833</td>\n",
       "      <td>7.9</td>\n",
       "      <td>8922.250000</td>\n",
       "      <td>8686.0</td>\n",
       "    </tr>\n",
       "  </tbody>\n",
       "</table>\n",
       "</div>"
      ],
      "text/plain": [
       "             num_sites        nearest_town_distance           elevation  \\\n",
       "                  mean median                  mean median         mean   \n",
       "cluster                                                                   \n",
       "dark purple  37.042553   15.0              8.434043    5.2  2100.000000   \n",
       "pink         64.738095   41.0             11.947619   10.9  4731.571429   \n",
       "purple       51.083333   20.0             10.945833    7.9  8922.250000   \n",
       "\n",
       "                     \n",
       "             median  \n",
       "cluster              \n",
       "dark purple  1869.0  \n",
       "pink         4793.5  \n",
       "purple       8686.0  "
      ]
     },
     "execution_count": 28,
     "metadata": {},
     "output_type": "execute_result"
    }
   ],
   "source": [
    "df_2.groupby('cluster').agg({'num_sites':['mean', 'median'], \n",
    "                         'nearest_town_distance':['mean', 'median'], \n",
    "                         'elevation':['mean', 'median']})"
   ]
  },
  {
   "cell_type": "markdown",
   "id": "bdae7899",
   "metadata": {},
   "source": [
    "-The pink cluster has the best stats in almost all the categories.  The median number of sites is 41, which is higher than the other two.  It also has the average distance to the nearest town.  It also has the average distance to town.\n",
    "\n",
    "-The average distance to the nearest town is varied between the three clusters.  It ranges from 5 to 10 miles on average.\n",
    "\n",
    "-The purple cluster seems to have a higher number of sites (not as much as the pink cluster) and also the highest average of elevation.  There are more sites with the higher elevation then I would have guessed.\n",
    "\n",
    "-The dark purple has the lowest average of sites with the lowest elevation and is the closest to the nearest town.  I would think there would be a higher number of sites because of the lower elevation and distance to town.\n",
    "\n",
    "-I think this data set is too small.  I would like other columns to explore.  In order to draw any real conclusions, I would need more information on campsites across the US.\n",
    "\n",
    "-I do think it supports what I have been finding all along.  The closer the site is to town, the more campsites that are available.  The farther the campsite is to town, the higher the elevation.  The data has been consistent in showing these results."
   ]
  },
  {
   "cell_type": "code",
   "execution_count": null,
   "id": "d66489b1",
   "metadata": {},
   "outputs": [],
   "source": []
  }
 ],
 "metadata": {
  "kernelspec": {
   "display_name": "Python 3 (ipykernel)",
   "language": "python",
   "name": "python3"
  },
  "language_info": {
   "codemirror_mode": {
    "name": "ipython",
    "version": 3
   },
   "file_extension": ".py",
   "mimetype": "text/x-python",
   "name": "python",
   "nbconvert_exporter": "python",
   "pygments_lexer": "ipython3",
   "version": "3.9.12"
  }
 },
 "nbformat": 4,
 "nbformat_minor": 5
}
